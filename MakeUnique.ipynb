{
 "cells": [
  {
   "cell_type": "code",
   "execution_count": 43,
   "metadata": {
    "collapsed": true
   },
   "outputs": [],
   "source": [
    "#!/usr/bin/env python\n",
    "# -*- coding: utf-8 -*-\n",
    "\n",
    "\n",
    "fin = open(\"DB/bdURL.csv\", \"r\", encoding=\"utf8\")\n",
    "names = []\n",
    "text = fin.readlines()\n",
    "for line in text[1:]:\n",
    "    if line.count('\"') > 6:\n",
    "        tmp = '\"'.join(line.split('\"')[1:-7])\n",
    "        name = tmp.replace('\"\"', '\"')\n",
    "    else:\n",
    "        name = line.split(\",\")[0]\n",
    "    names += [name.rstrip()]\n",
    "fin.close()\n",
    "\n",
    "fout = open(\"DB/bd_unique.csv\", \"w\", encoding=\"utf8\")\n",
    "fout.write(text[0])\n",
    "\n",
    "s = set()\n",
    "for line in range(1, len(text)):\n",
    "    if line % 100 == 0:\n",
    "        print(str(line) + \"/\" + str(len(text)))\n",
    "    name = names[line-1]\n",
    "    if name not in s:\n",
    "        s.add(name)\n",
    "        fout.write(text[line])\n"
   ]
  }
 ],
 "metadata": {
  "kernelspec": {
   "display_name": "Python 3",
   "language": "python",
   "name": "python3"
  },
  "language_info": {
   "codemirror_mode": {
    "name": "ipython",
    "version": 3
   },
   "file_extension": ".py",
   "mimetype": "text/x-python",
   "name": "python",
   "nbconvert_exporter": "python",
   "pygments_lexer": "ipython3",
   "version": "3.6.1"
  }
 },
 "nbformat": 4,
 "nbformat_minor": 1
}
