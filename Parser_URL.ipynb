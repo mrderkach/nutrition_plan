{
 "cells": [
  {
   "cell_type": "code",
   "execution_count": 144,
   "metadata": {},
   "outputs": [],
   "source": [
    "#!/usr/bin/env python\n",
    "# -*- coding: utf-8 -*-\n",
    "\n",
    "import abc\n",
    "from bs4 import BeautifulSoup as bs\n",
    "import datetime\n",
    "import math\n",
    "import re\n",
    "from requests import get as urlopen\n",
    "\n",
    "\n",
    "fin = open(\"DB_original/epi_r.csv\", \"r\", encoding=\"utf8\")\n",
    "names = []\n",
    "text = fin.readlines()\n",
    "for line in text[1:]:\n",
    "    if '\"' in line:\n",
    "        tmp = '\"'.join(line.split('\"')[1:-1])\n",
    "        name = tmp.replace('\"\"', '\"')\n",
    "    else:\n",
    "        name = line.split(\",\")[0]\n",
    "    names += [name.rstrip()]\n",
    "fin.close()"
   ]
  },
  {
   "cell_type": "code",
   "execution_count": 147,
   "metadata": {},
   "outputs": [],
   "source": [
    "def handle(spage, name):\n",
    "    pages = math.ceil(int(spage.find('span',  {'class': 'matching-count'}).text) / 18)\n",
    "    s1 = \" \".join(re.findall(\"[a-zA-Z]+\", name))\n",
    "    \n",
    "    for numpage in range(1, pages+1):\n",
    "        page = bs(urlopen(\"https://www.epicurious.com/search/\" + '%20'.join(name.split()) + \\\n",
    "                  \"?page=\" + str(numpage)).text, 'lxml')\n",
    "        cards = [i for i in \\\n",
    "                    page.find_all('article', {'class': 'recipe-content-card'})]\n",
    "        for card in cards:\n",
    "            for i in card.find_all('a'):\n",
    "                s2 = \" \".join(re.findall(\"[a-zA-Z]+\", str(i.get('title'))))\n",
    "                if s1 == s2:\n",
    "                    return \"https://www.epicurious.com/\" + i.get('href')"
   ]
  },
  {
   "cell_type": "code",
   "execution_count": 149,
   "metadata": {},
   "outputs": [
    {
     "name": "stdout",
     "output_type": "stream",
     "text": [
      "https://www.epicurious.com//recipes/food/views/coconut-key-lime-sheet-cake\n"
     ]
    }
   ],
   "source": [
    "fout = open(\"DB/bdURL.csv\", \"w\", encoding=\"utf8\")\n",
    "fout.write(text[0])\n",
    "for line in range(1, len(text)):\n",
    "    if line % 500 == 0:\n",
    "        print(line)\n",
    "    name = names[line - 1]\n",
    "    url = handle(bs(urlopen(\"https://www.epicurious.com/search/\" + '%20'.join(name.split())).text, 'lxml'), name)\n",
    "    if url is None:\n",
    "        print(\"FAIL: \"+name)\n",
    "        url=\"None\"\n",
    "    fout.write(text[line].rstrip()+\", \\\"\" + url + \"\\\"\\n\")\n",
    "    \n",
    "    "
   ]
  },
  {
   "cell_type": "code",
   "execution_count": null,
   "metadata": {
    "collapsed": true
   },
   "outputs": [],
   "source": []
  }
 ],
 "metadata": {
  "kernelspec": {
   "display_name": "Python 3",
   "language": "python",
   "name": "python3"
  },
  "language_info": {
   "codemirror_mode": {
    "name": "ipython",
    "version": 3
   },
   "file_extension": ".py",
   "mimetype": "text/x-python",
   "name": "python",
   "nbconvert_exporter": "python",
   "pygments_lexer": "ipython3",
   "version": "3.6.1"
  }
 },
 "nbformat": 4,
 "nbformat_minor": 1
}
